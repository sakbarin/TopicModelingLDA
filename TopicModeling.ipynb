{
 "cells": [
  {
   "cell_type": "markdown",
   "metadata": {},
   "source": [
    "## Importing Libraries"
   ]
  },
  {
   "cell_type": "code",
   "execution_count": 3,
   "metadata": {},
   "outputs": [],
   "source": [
    "from pyspark.sql import SparkSession, functions, types\n",
    "from bs4 import BeautifulSoup\n",
    "from pyspark.ml.feature import RegexTokenizer, StopWordsRemover, CountVectorizer, CountVectorizerModel\n",
    "from pyspark.ml import Pipeline, PipelineModel\n",
    "from pyspark.ml.clustering import LDA, LocalLDAModel\n",
    "import matplotlib.pyplot as plt\n",
    "from wordcloud import WordCloud\n",
    "import re"
   ]
  },
  {
   "cell_type": "markdown",
   "metadata": {},
   "source": [
    "## Loading Data"
   ]
  },
  {
   "cell_type": "markdown",
   "metadata": {},
   "source": [
    "### Loading Businesses Data"
   ]
  },
  {
   "cell_type": "code",
   "execution_count": 11,
   "metadata": {},
   "outputs": [],
   "source": [
    "# read business json file\n",
    "df_init_business = spark.read.json('business.json')\n",
    "\n",
    "# filter only restaurants in Toronto\n",
    "df_filter_business = df_init_business.where((functions.lower(df_init_business['categories']).contains('restaurant')) & (functions.lower(df_init_business['city']) == 'toronto'))\n",
    "\n",
    "# select required columns\n",
    "df_business = df_filter_business.select(df_filter_business['business_id'], df_filter_business['name'])"
   ]
  },
  {
   "cell_type": "markdown",
   "metadata": {},
   "source": [
    "### Loading Reviews Data"
   ]
  },
  {
   "cell_type": "code",
   "execution_count": 12,
   "metadata": {},
   "outputs": [],
   "source": [
    "# read reviews json file\n",
    "df_init_review = spark.read.json('review.json')\n",
    "\n",
    "# get only reviews for filtered businesses\n",
    "df_business_reviews = df_business.join(df_init_review, 'business_id', 'left')\n",
    "\n",
    "# filter reviews\n",
    "df_filter_reviews = df_business_reviews.where(df_business_reviews['text'] != '')\n",
    "\n",
    "# select required columns\n",
    "df_reviews = df_business_reviews.select(df_business_reviews['review_id'], df_business_reviews['business_id'], functions.lower(df_business_reviews['text']).alias('review_text')) \\\n",
    "                .cache()"
   ]
  },
  {
   "cell_type": "markdown",
   "metadata": {},
   "source": [
    "## Preprocessing Data"
   ]
  },
  {
   "cell_type": "markdown",
   "metadata": {},
   "source": [
    "### One sample of review text before processing"
   ]
  },
  {
   "cell_type": "code",
   "execution_count": 13,
   "metadata": {},
   "outputs": [
    {
     "data": {
      "text/plain": [
       "\"so i've never been to the shop, but i see this lady at the montgomery inn farmers market.  sometimes i get a scone or a butter tart and they are always delicious (earl grey and white chocolate scone... mmmm so good).\\nso i have been having a craving for a slice of cherry pie since my birthday (beginning of feb).  i'm not gonna lie, i was imagining the overly sweet sugar coated crust with canned filling... not sure why?  so, last week i'm going in for my scone when what do i see.... a mini cherry pie!  at $7 i'm thinking what a steal to fulfill my birthday dream!  i have enjoyed this amazing little pie on two different occasions with one little piece still remaining.  i'm overjoyed every time i take a bite.  and it's not that super sweet processed cherries from a can pie i'd envisioned.  it's the real thing!  perfect amount of sweet, real cherries and a great crust.  happy birthday to me.\""
      ]
     },
     "execution_count": 13,
     "metadata": {},
     "output_type": "execute_result"
    }
   ],
   "source": [
    "df_reviews.take(1)[0][2]"
   ]
  },
  {
   "cell_type": "markdown",
   "metadata": {},
   "source": [
    "### Function to remove HTML tags from reviews"
   ]
  },
  {
   "cell_type": "code",
   "execution_count": 14,
   "metadata": {},
   "outputs": [],
   "source": [
    "@functions.udf(returnType=types.StringType())\n",
    "def remove_html(input):\n",
    "    soup = BeautifulSoup(input, 'html.parser')\n",
    "    return soup.get_text().strip()"
   ]
  },
  {
   "cell_type": "markdown",
   "metadata": {},
   "source": [
    "### Function to remove punctuation from review"
   ]
  },
  {
   "cell_type": "code",
   "execution_count": 15,
   "metadata": {},
   "outputs": [],
   "source": [
    "@functions.udf(returnType=types.StringType())\n",
    "def remove_punctuation(input):\n",
    "    output = re.sub(r'[^a-zA-Z0-9]|[0-9]', r' ', input).strip().lower()\n",
    "    output = \" \".join(output.split())\n",
    "    \n",
    "    return output"
   ]
  },
  {
   "cell_type": "markdown",
   "metadata": {},
   "source": [
    "### Remove HTML tags and punctuations"
   ]
  },
  {
   "cell_type": "code",
   "execution_count": 16,
   "metadata": {},
   "outputs": [],
   "source": [
    "df_reviews_nohtml = df_reviews.select(df_reviews['review_id'], df_reviews['business_id'], remove_html(df_reviews['review_text']).alias('review_text'))\n",
    "df_reviews_nopunc = df_reviews_nohtml.select(df_reviews_nohtml['review_id'], df_reviews_nohtml['business_id'], remove_punctuation(df_reviews_nohtml['review_text']).alias('review_text'))"
   ]
  },
  {
   "cell_type": "markdown",
   "metadata": {},
   "source": [
    "### Sample of review text after processing"
   ]
  },
  {
   "cell_type": "code",
   "execution_count": 18,
   "metadata": {},
   "outputs": [
    {
     "data": {
      "text/plain": [
       "'so i ve never been to the shop but i see this lady at the montgomery inn farmers market sometimes i get a scone or a butter tart and they are always delicious earl grey and white chocolate scone mmmm so good so i have been having a craving for a slice of cherry pie since my birthday beginning of feb i m not gonna lie i was imagining the overly sweet sugar coated crust with canned filling not sure why so last week i m going in for my scone when what do i see a mini cherry pie at i m thinking what a steal to fulfill my birthday dream i have enjoyed this amazing little pie on two different occasions with one little piece still remaining i m overjoyed every time i take a bite and it s not that super sweet processed cherries from a can pie i d envisioned it s the real thing perfect amount of sweet real cherries and a great crust happy birthday to me'"
      ]
     },
     "execution_count": 18,
     "metadata": {},
     "output_type": "execute_result"
    }
   ],
   "source": [
    "df_reviews_nopunc.take(1)[0][2]"
   ]
  },
  {
   "cell_type": "code",
   "execution_count": 20,
   "metadata": {},
   "outputs": [
    {
     "name": "stdout",
     "output_type": "stream",
     "text": [
      "+--------------------+--------------------+--------------------+\n",
      "|           review_id|         business_id|         review_text|\n",
      "+--------------------+--------------------+--------------------+\n",
      "|vrrSIexTsWMrHOCLC...|1RFIVcZYV77tGIwVV...|so i ve never bee...|\n",
      "|mvD1fHMQqzS_f4sqz...|1RFIVcZYV77tGIwVV...|louise is the own...|\n",
      "|3oD2wWuhO-TUjqWnN...|1RFIVcZYV77tGIwVV...|the owner is very...|\n",
      "+--------------------+--------------------+--------------------+\n",
      "only showing top 3 rows\n",
      "\n"
     ]
    }
   ],
   "source": [
    "df_reviews_nopunc.show(3)"
   ]
  },
  {
   "cell_type": "markdown",
   "metadata": {},
   "source": [
    "### Define additional stop words"
   ]
  },
  {
   "cell_type": "code",
   "execution_count": 21,
   "metadata": {},
   "outputs": [],
   "source": [
    "moreStopWords = \\\n",
    "    ['', 'm', 's', 've', 're', 'com', 'de', 'eu', 'cf', 'pm', 'like', 'one', 'using', 'new', 'also',\n",
    "     'really', 'need', 'caption', 'since', 'change', 'young', 'align', 'width',\n",
    "     'attachment', 'number', 'know', 'two', 'use', 'see', 'get', 'first', 'good',\n",
    "     'next', 'well', 'day', 'way', 'fruit', 'different', 'let', 'lot', 'would',\n",
    "     'already', 'set', 'user', 'even', 'might', 'many', 'different', 'crazy',\n",
    "     'may', 'could', 'still', 'probably', 'make', 'write', 'used', 'written',\n",
    "     'go', 'us', 'yes', 'seen', 'behind', 'much', 'makes', 'via', 'based',\n",
    "     'choose', 'presented', 'away', 'hence', 'wants', 'please', 'add',\n",
    "     'something', 'conclusion', 'able', 'describe', 'thing', 'likely',\n",
    "     'lots', 'sense', 'higher', 'every', 'right', 'sure', 'quite', 'without',\n",
    "     'within', 'codecentric', 'follow', 'look', 'example', 'examples', 'short',\n",
    "     'cancel', 'promise', 'means', 'almost', 'large', 'besides']"
   ]
  },
  {
   "cell_type": "markdown",
   "metadata": {},
   "source": [
    "### Remove white spaces, stop words and create count vector"
   ]
  },
  {
   "cell_type": "code",
   "execution_count": 22,
   "metadata": {},
   "outputs": [],
   "source": [
    "regexTokenizer = RegexTokenizer(inputCol=\"review_text\", outputCol=\"review_words\", gaps=True, pattern=r'\\s+', minTokenLength=2)\n",
    "stopWordsRemover = StopWordsRemover(inputCol=\"review_words\", outputCol=\"review_filtered\")\n",
    "countVectorizer = CountVectorizer(inputCol=\"review_filtered\", outputCol=\"features\", vocabSize=2500, minTF=2, minDF=4)\n",
    "\n",
    "stopWordsRemover.setStopWords(stopWordsRemover.getStopWords() + moreStopWords)\n",
    "\n",
    "pipeline = Pipeline(stages=[regexTokenizer, stopWordsRemover, countVectorizer])"
   ]
  },
  {
   "cell_type": "markdown",
   "metadata": {},
   "source": [
    "### Create feature vectors"
   ]
  },
  {
   "cell_type": "code",
   "execution_count": 26,
   "metadata": {
    "scrolled": false
   },
   "outputs": [],
   "source": [
    "model = pipeline.fit(df_reviews_nopunc)"
   ]
  },
  {
   "cell_type": "code",
   "execution_count": 31,
   "metadata": {},
   "outputs": [
    {
     "data": {
      "text/plain": [
       "['food',\n",
       " 'place',\n",
       " 'great',\n",
       " 'service',\n",
       " 'time',\n",
       " 'back',\n",
       " 'restaurant',\n",
       " 'chicken',\n",
       " 'ordered',\n",
       " 'menu']"
      ]
     },
     "execution_count": 31,
     "metadata": {},
     "output_type": "execute_result"
    }
   ],
   "source": [
    "# see vocabulary obtained from pipeline\n",
    "vocab = model.stages[2].vocabulary\n",
    "vocab[0:10]"
   ]
  },
  {
   "cell_type": "code",
   "execution_count": 32,
   "metadata": {},
   "outputs": [
    {
     "name": "stdout",
     "output_type": "stream",
     "text": [
      "+----------------------+-----------------------------------------------------------------------------------------+\n",
      "|review_id             |features                                                                                 |\n",
      "+----------------------+-----------------------------------------------------------------------------------------+\n",
      "|vrrSIexTsWMrHOCLCPw32g|(2500,[19,85,336,413,562,615,1763],[2.0,3.0,2.0,3.0,2.0,4.0,2.0])                        |\n",
      "|mvD1fHMQqzS_f4sqzDu1oQ|(2500,[17,30,92,177,249,413,516,792,1668,1763],[2.0,2.0,2.0,2.0,3.0,3.0,2.0,2.0,2.0,2.0])|\n",
      "|3oD2wWuhO-TUjqWnNStkDw|(2500,[111],[2.0])                                                                       |\n",
      "|NwrSFI0pJQfiNdJb8IS49A|(2500,[85],[2.0])                                                                        |\n",
      "|7aA5gWum--OxUmk4z8kd1A|(2500,[7],[2.0])                                                                         |\n",
      "|0Z3yFyTE8ZB-lAKyLmVnZg|(2500,[794],[3.0])                                                                       |\n",
      "|VGY2pt1f0gJRV7M_E9PeZQ|(2500,[1,34,226,794],[2.0,2.0,2.0,2.0])                                                  |\n",
      "|SnSzV4_NOxDdrL-QzfEwRQ|(2500,[],[])                                                                             |\n",
      "|0-SLysteTHTn2SGEt9sQHQ|(2500,[43,92,561,794,1901],[2.0,2.0,4.0,4.0,2.0])                                        |\n",
      "|4n9y5mDjvB5sZQnaOdynZQ|(2500,[],[])                                                                             |\n",
      "+----------------------+-----------------------------------------------------------------------------------------+\n",
      "only showing top 10 rows\n",
      "\n"
     ]
    }
   ],
   "source": [
    "df_countVectors = model.transform(df_reviews_nopunc).select(\"review_id\", \"features\")\n",
    "df_countVectors.show(10, False)"
   ]
  },
  {
   "cell_type": "markdown",
   "metadata": {},
   "source": [
    "## Apply LDA algorithm"
   ]
  },
  {
   "cell_type": "code",
   "execution_count": 33,
   "metadata": {},
   "outputs": [],
   "source": [
    "# define number of topics to generate\n",
    "number_of_topics = 6\n",
    "\n",
    "# define LDA algorithm parameters\n",
    "lda = LDA(k = number_of_topics, seed = 1, optimizer=\"online\", \n",
    "          optimizeDocConcentration=True, maxIter = 50, learningDecay = 0.51, \n",
    "          learningOffset=64., subsamplingRate = 0.05 )\n",
    "\n",
    "# fit model\n",
    "lda_model = lda.fit(df_countVectors)"
   ]
  },
  {
   "cell_type": "code",
   "execution_count": 42,
   "metadata": {},
   "outputs": [
    {
     "name": "stdout",
     "output_type": "stream",
     "text": [
      "+--------------------+--------------------+--------------------+\n",
      "|           review_id|            features|   topicDistribution|\n",
      "+--------------------+--------------------+--------------------+\n",
      "|vrrSIexTsWMrHOCLC...|(2500,[19,85,336,...|[0.00950595674176...|\n",
      "|mvD1fHMQqzS_f4sqz...|(2500,[17,30,92,1...|[0.00785316445495...|\n",
      "|3oD2wWuhO-TUjqWnN...|  (2500,[111],[2.0])|[0.06457563182349...|\n",
      "|NwrSFI0pJQfiNdJb8...|   (2500,[85],[2.0])|[0.06461237075478...|\n",
      "|7aA5gWum--OxUmk4z...|    (2500,[7],[2.0])|[0.06457757799338...|\n",
      "+--------------------+--------------------+--------------------+\n",
      "only showing top 5 rows\n",
      "\n"
     ]
    }
   ],
   "source": [
    "# show topic distribution for each review\n",
    "df_topicDistribution = lda_model.transform(df_countVectors)\n",
    "df_topicDistribution.show(5)"
   ]
  },
  {
   "cell_type": "code",
   "execution_count": 44,
   "metadata": {
    "scrolled": true
   },
   "outputs": [
    {
     "name": "stdout",
     "output_type": "stream",
     "text": [
      "+-----+--------------------+--------------------+\n",
      "|topic|         termIndices|         termWeights|\n",
      "+-----+--------------------+--------------------+\n",
      "|    0|[0, 2, 3, 1, 4, 2...|[0.10548627956672...|\n",
      "|    1|[111, 72, 20, 60,...|[0.03119731837245...|\n",
      "|    2|[63, 52, 37, 8, 9...|[0.04158602372234...|\n",
      "|    3|[7, 0, 6, 131, 12...|[0.09594779545804...|\n",
      "|    4|[71, 66, 21, 151,...|[0.03533684197028...|\n",
      "|    5|[1, 60, 41, 11, 8...|[0.09805255202025...|\n",
      "+-----+--------------------+--------------------+\n",
      "\n"
     ]
    }
   ],
   "source": [
    "# Print topics and top-weighted terms\n",
    "terms_per_topic = 10\n",
    "topics = lda_model.describeTopics(maxTermsPerTopic=terms_per_topic)\n",
    "topics.show()"
   ]
  },
  {
   "cell_type": "code",
   "execution_count": 57,
   "metadata": {},
   "outputs": [],
   "source": [
    "# function to convert word indices to word text\n",
    "@functions.udf(types.ArrayType(types.StringType()))\n",
    "def ListOfIndexToWords(term_indices):\n",
    "    words = []\n",
    "    for term_index in term_indices:\n",
    "        words.append(vocab[term_index])\n",
    "    return words"
   ]
  },
  {
   "cell_type": "code",
   "execution_count": 119,
   "metadata": {},
   "outputs": [],
   "source": [
    "# function to conver word weights to weights\n",
    "@functions.udf(types.ArrayType(types.FloatType()))\n",
    "def FormatNumbers(term_weights):\n",
    "    weights = []\n",
    "    for term_weight in term_weights:\n",
    "        weights.append(float(\"{:1.4f}\".format(term_weight)))\n",
    "    return weights"
   ]
  },
  {
   "cell_type": "code",
   "execution_count": 120,
   "metadata": {},
   "outputs": [
    {
     "name": "stdout",
     "output_type": "stream",
     "text": [
      "+-----------------------------------------------------------------------------+\n",
      "|words                                                                        |\n",
      "+-----------------------------------------------------------------------------+\n",
      "|[food, great, service, place, time, table, came, back, restaurant, wait]     |\n",
      "|[coffee, bar, pretty, sushi, lobster, night, food, restaurant, quality, free]|\n",
      "|[pizza, cheese, salad, ordered, menu, steak, beer, got, pasta, bread]        |\n",
      "|[chicken, food, restaurant, thai, order, place, rice, curry, wings, ordered] |\n",
      "|[burger, pork, sauce, ramen, beef, meat, soup, fries, fried, noodles]        |\n",
      "|[place, sushi, lunch, nice, fish, always, love, tea, tacos, pho]             |\n",
      "+-----------------------------------------------------------------------------+\n",
      "\n",
      "+--------------------------------------------------------------------------------+\n",
      "|weights                                                                         |\n",
      "+--------------------------------------------------------------------------------+\n",
      "|[0.1055, 0.0578, 0.0342, 0.0279, 0.0265, 0.0182, 0.0156, 0.0152, 0.0138, 0.0114]|\n",
      "|[0.0312, 0.0287, 0.0267, 0.0215, 0.0176, 0.0171, 0.0145, 0.0133, 0.013, 0.0114] |\n",
      "|[0.0416, 0.026, 0.0236, 0.0168, 0.0165, 0.015, 0.0138, 0.0132, 0.0125, 0.012]   |\n",
      "|[0.0959, 0.0472, 0.0292, 0.028, 0.0264, 0.0196, 0.0178, 0.0167, 0.0136, 0.0128] |\n",
      "|[0.0353, 0.0267, 0.0224, 0.0219, 0.0204, 0.0203, 0.0201, 0.0196, 0.0166, 0.015] |\n",
      "|[0.0981, 0.0277, 0.026, 0.0241, 0.024, 0.0221, 0.022, 0.018, 0.0133, 0.0126]    |\n",
      "+--------------------------------------------------------------------------------+\n",
      "\n"
     ]
    }
   ],
   "source": [
    "# show topics and weights\n",
    "topics.select(ListOfIndexToWords(topics.termIndices).alias('words')).show(truncate=False, n=number_of_topics)\n",
    "topics.select(FormatNumbers(topics.termWeights).alias('weights')).show(truncate=False, n=number_of_topics)"
   ]
  },
  {
   "cell_type": "markdown",
   "metadata": {},
   "source": [
    "### Save models"
   ]
  },
  {
   "cell_type": "code",
   "execution_count": 61,
   "metadata": {},
   "outputs": [],
   "source": [
    "path = \"PythonLDA/\"\n",
    "\n",
    "model.save(path + 'ModelCountVector')\n",
    "lda_model.save(path + 'ModelLDA')\n",
    "lda.save(path + 'LDA')"
   ]
  },
  {
   "cell_type": "markdown",
   "metadata": {},
   "source": [
    "### Load model"
   ]
  },
  {
   "cell_type": "code",
   "execution_count": 62,
   "metadata": {},
   "outputs": [],
   "source": [
    "path = \"PythonLDA/\"\n",
    "\n",
    "loaded_model_pipeline = PipelineModel.load(path + 'ModelCountVector')\n",
    "loaded_model_lda = LocalLDAModel.load(path + 'ModelLDA')"
   ]
  },
  {
   "cell_type": "code",
   "execution_count": 87,
   "metadata": {},
   "outputs": [
    {
     "name": "stdout",
     "output_type": "stream",
     "text": [
      "+-----+--------------------+--------------------+\n",
      "|topic|         termIndices|         termWeights|\n",
      "+-----+--------------------+--------------------+\n",
      "|    0|[0, 2, 3, 1, 4, 2...|[0.10548627956672...|\n",
      "|    1|[111, 72, 20, 60,...|[0.03119731837245...|\n",
      "|    2|[63, 52, 37, 8, 9...|[0.04158602372234...|\n",
      "|    3|[7, 0, 6, 131, 12...|[0.09594779545804...|\n",
      "|    4|[71, 66, 21, 151,...|[0.03533684197028...|\n",
      "|    5|[1, 60, 41, 11, 8...|[0.09805255202025...|\n",
      "+-----+--------------------+--------------------+\n",
      "\n"
     ]
    }
   ],
   "source": [
    "\n",
    "topics = loaded_model_lda.describeTopics(maxTermsPerTopic=terms_per_topic)\n",
    "vocab = loaded_model_pipeline.stages[2].vocabulary\n",
    "\n",
    "topics.show()"
   ]
  },
  {
   "cell_type": "code",
   "execution_count": 121,
   "metadata": {},
   "outputs": [
    {
     "name": "stdout",
     "output_type": "stream",
     "text": [
      "+-----+-----------------------------------------------------------------------------+--------------------------------------------------------------------------------+\n",
      "|topic|words                                                                        |weights                                                                         |\n",
      "+-----+-----------------------------------------------------------------------------+--------------------------------------------------------------------------------+\n",
      "|1    |[food, great, service, place, time, table, came, back, restaurant, wait]     |[0.1055, 0.0578, 0.0342, 0.0279, 0.0265, 0.0182, 0.0156, 0.0152, 0.0138, 0.0114]|\n",
      "|2    |[coffee, bar, pretty, sushi, lobster, night, food, restaurant, quality, free]|[0.0312, 0.0287, 0.0267, 0.0215, 0.0176, 0.0171, 0.0145, 0.0133, 0.013, 0.0114] |\n",
      "|3    |[pizza, cheese, salad, ordered, menu, steak, beer, got, pasta, bread]        |[0.0416, 0.026, 0.0236, 0.0168, 0.0165, 0.015, 0.0138, 0.0132, 0.0125, 0.012]   |\n",
      "|4    |[chicken, food, restaurant, thai, order, place, rice, curry, wings, ordered] |[0.0959, 0.0472, 0.0292, 0.028, 0.0264, 0.0196, 0.0178, 0.0167, 0.0136, 0.0128] |\n",
      "|5    |[burger, pork, sauce, ramen, beef, meat, soup, fries, fried, noodles]        |[0.0353, 0.0267, 0.0224, 0.0219, 0.0204, 0.0203, 0.0201, 0.0196, 0.0166, 0.015] |\n",
      "|6    |[place, sushi, lunch, nice, fish, always, love, tea, tacos, pho]             |[0.0981, 0.0277, 0.026, 0.0241, 0.024, 0.0221, 0.022, 0.018, 0.0133, 0.0126]    |\n",
      "+-----+-----------------------------------------------------------------------------+--------------------------------------------------------------------------------+\n",
      "\n",
      "Topics: 6 \n",
      "Vocabulary: 2500\n"
     ]
    }
   ],
   "source": [
    "topTopics = topics.select((topics.topic + 1).alias('topic'), \\\n",
    "                          ListOfIndexToWords(topics.termIndices).alias('words'), \\\n",
    "                          FormatNumbers(topics.termWeights).alias('weights'))\n",
    "\n",
    "topTopics.show(truncate=False, n=number_of_topics)\n",
    "print('Topics:', number_of_topics, '\\nVocabulary:', len(vocab))"
   ]
  },
  {
   "cell_type": "markdown",
   "metadata": {},
   "source": [
    "### Show word cloud for a topic"
   ]
  },
  {
   "cell_type": "code",
   "execution_count": 123,
   "metadata": {},
   "outputs": [
    {
     "data": {
      "image/png": "[encoded data removed]",
      "text/plain": [
       "<Figure size 432x288 with 1 Axes>"
      ]
     },
     "metadata": {
      "needs_background": "light"
     },
     "output_type": "display_data"
    }
   ],
   "source": [
    "topic_to_show = 3\n",
    "\n",
    "words = topTopics.collect()[topic_to_show-1][1]\n",
    "frequencies = topTopics.collect()[topic_to_show-1][2]\n",
    "\n",
    "d = {}\n",
    "for i in range(len(words)):\n",
    "    d[words[i]] = frequencies[i]\n",
    "    \n",
    "wordcloud = WordCloud(background_color=\"white\",\n",
    "                      max_font_size=100,relative_scaling=0.5,margin=5,\n",
    "                      random_state=1, stopwords=None).generate_from_frequencies(d)\n",
    "\n",
    "plt.imshow(wordcloud)\n",
    "plt.axis(\"off\")\n",
    "plt.show()"
   ]
  }
 ],
 "metadata": {
  "kernelspec": {
   "display_name": "Python 3",
   "language": "python",
   "name": "python3"
  },
  "language_info": {
   "codemirror_mode": {
    "name": "ipython",
    "version": 3
   },
   "file_extension": ".py",
   "mimetype": "text/x-python",
   "name": "python",
   "nbconvert_exporter": "python",
   "pygments_lexer": "ipython3",
   "version": "3.6.9"
  }
 },
 "nbformat": 4,
 "nbformat_minor": 2
}
